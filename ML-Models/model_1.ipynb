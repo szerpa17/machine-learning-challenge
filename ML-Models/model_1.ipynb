{
 "cells": [
  {
   "cell_type": "code",
   "execution_count": 1,
   "metadata": {},
   "outputs": [
    {
     "name": "stdout",
     "output_type": "stream",
     "text": [
      "Requirement already up-to-date: sklearn in c:\\users\\szerp\\anacoda3\\envs\\pythondata\\lib\\site-packages (0.0)\n",
      "Requirement already satisfied, skipping upgrade: scikit-learn in c:\\users\\szerp\\anacoda3\\envs\\pythondata\\lib\\site-packages (from sklearn) (0.22.1)\n",
      "Requirement already satisfied, skipping upgrade: numpy>=1.11.0 in c:\\users\\szerp\\anacoda3\\envs\\pythondata\\lib\\site-packages (from scikit-learn->sklearn) (1.18.1)\n",
      "Requirement already satisfied, skipping upgrade: scipy>=0.17.0 in c:\\users\\szerp\\anacoda3\\envs\\pythondata\\lib\\site-packages (from scikit-learn->sklearn) (1.4.1)\n",
      "Requirement already satisfied, skipping upgrade: joblib>=0.11 in c:\\users\\szerp\\anacoda3\\envs\\pythondata\\lib\\site-packages (from scikit-learn->sklearn) (0.15.1)\n"
     ]
    }
   ],
   "source": [
    "# Update sklearn to prevent version mismatches\n",
    "!pip install sklearn --upgrade"
   ]
  },
  {
   "cell_type": "code",
   "execution_count": 2,
   "metadata": {},
   "outputs": [
    {
     "name": "stdout",
     "output_type": "stream",
     "text": [
      "Requirement already satisfied: joblib in c:\\users\\szerp\\anacoda3\\envs\\pythondata\\lib\\site-packages (0.15.1)\n"
     ]
    }
   ],
   "source": [
    "# install joblib. This will be used to save your model. \n",
    "# Restart your kernel after installing \n",
    "!pip install joblib"
   ]
  },
  {
   "cell_type": "code",
   "execution_count": 3,
   "metadata": {},
   "outputs": [],
   "source": [
    "import pandas as pd"
   ]
  },
  {
   "cell_type": "code",
   "execution_count": 4,
   "metadata": {},
   "outputs": [],
   "source": [
    "# Read the CSV and Perform Basic Data Cleaning"
   ]
  },
  {
   "cell_type": "code",
   "execution_count": 5,
   "metadata": {},
   "outputs": [
    {
     "data": {
      "text/html": [
       "<div>\n",
       "<style scoped>\n",
       "    .dataframe tbody tr th:only-of-type {\n",
       "        vertical-align: middle;\n",
       "    }\n",
       "\n",
       "    .dataframe tbody tr th {\n",
       "        vertical-align: top;\n",
       "    }\n",
       "\n",
       "    .dataframe thead th {\n",
       "        text-align: right;\n",
       "    }\n",
       "</style>\n",
       "<table border=\"1\" class=\"dataframe\">\n",
       "  <thead>\n",
       "    <tr style=\"text-align: right;\">\n",
       "      <th></th>\n",
       "      <th>koi_disposition</th>\n",
       "      <th>koi_fpflag_nt</th>\n",
       "      <th>koi_fpflag_ss</th>\n",
       "      <th>koi_fpflag_co</th>\n",
       "      <th>koi_fpflag_ec</th>\n",
       "      <th>koi_period</th>\n",
       "      <th>koi_period_err1</th>\n",
       "      <th>koi_period_err2</th>\n",
       "      <th>koi_time0bk</th>\n",
       "      <th>koi_time0bk_err1</th>\n",
       "      <th>...</th>\n",
       "      <th>koi_steff_err2</th>\n",
       "      <th>koi_slogg</th>\n",
       "      <th>koi_slogg_err1</th>\n",
       "      <th>koi_slogg_err2</th>\n",
       "      <th>koi_srad</th>\n",
       "      <th>koi_srad_err1</th>\n",
       "      <th>koi_srad_err2</th>\n",
       "      <th>ra</th>\n",
       "      <th>dec</th>\n",
       "      <th>koi_kepmag</th>\n",
       "    </tr>\n",
       "  </thead>\n",
       "  <tbody>\n",
       "    <tr>\n",
       "      <th>0</th>\n",
       "      <td>CONFIRMED</td>\n",
       "      <td>0</td>\n",
       "      <td>0</td>\n",
       "      <td>0</td>\n",
       "      <td>0</td>\n",
       "      <td>54.418383</td>\n",
       "      <td>2.479000e-04</td>\n",
       "      <td>-2.479000e-04</td>\n",
       "      <td>162.513840</td>\n",
       "      <td>0.003520</td>\n",
       "      <td>...</td>\n",
       "      <td>-81</td>\n",
       "      <td>4.467</td>\n",
       "      <td>0.064</td>\n",
       "      <td>-0.096</td>\n",
       "      <td>0.927</td>\n",
       "      <td>0.105</td>\n",
       "      <td>-0.061</td>\n",
       "      <td>291.93423</td>\n",
       "      <td>48.141651</td>\n",
       "      <td>15.347</td>\n",
       "    </tr>\n",
       "    <tr>\n",
       "      <th>1</th>\n",
       "      <td>FALSE POSITIVE</td>\n",
       "      <td>0</td>\n",
       "      <td>1</td>\n",
       "      <td>0</td>\n",
       "      <td>0</td>\n",
       "      <td>19.899140</td>\n",
       "      <td>1.490000e-05</td>\n",
       "      <td>-1.490000e-05</td>\n",
       "      <td>175.850252</td>\n",
       "      <td>0.000581</td>\n",
       "      <td>...</td>\n",
       "      <td>-176</td>\n",
       "      <td>4.544</td>\n",
       "      <td>0.044</td>\n",
       "      <td>-0.176</td>\n",
       "      <td>0.868</td>\n",
       "      <td>0.233</td>\n",
       "      <td>-0.078</td>\n",
       "      <td>297.00482</td>\n",
       "      <td>48.134129</td>\n",
       "      <td>15.436</td>\n",
       "    </tr>\n",
       "    <tr>\n",
       "      <th>2</th>\n",
       "      <td>FALSE POSITIVE</td>\n",
       "      <td>0</td>\n",
       "      <td>1</td>\n",
       "      <td>0</td>\n",
       "      <td>0</td>\n",
       "      <td>1.736952</td>\n",
       "      <td>2.630000e-07</td>\n",
       "      <td>-2.630000e-07</td>\n",
       "      <td>170.307565</td>\n",
       "      <td>0.000115</td>\n",
       "      <td>...</td>\n",
       "      <td>-174</td>\n",
       "      <td>4.564</td>\n",
       "      <td>0.053</td>\n",
       "      <td>-0.168</td>\n",
       "      <td>0.791</td>\n",
       "      <td>0.201</td>\n",
       "      <td>-0.067</td>\n",
       "      <td>285.53461</td>\n",
       "      <td>48.285210</td>\n",
       "      <td>15.597</td>\n",
       "    </tr>\n",
       "    <tr>\n",
       "      <th>3</th>\n",
       "      <td>CONFIRMED</td>\n",
       "      <td>0</td>\n",
       "      <td>0</td>\n",
       "      <td>0</td>\n",
       "      <td>0</td>\n",
       "      <td>2.525592</td>\n",
       "      <td>3.760000e-06</td>\n",
       "      <td>-3.760000e-06</td>\n",
       "      <td>171.595550</td>\n",
       "      <td>0.001130</td>\n",
       "      <td>...</td>\n",
       "      <td>-211</td>\n",
       "      <td>4.438</td>\n",
       "      <td>0.070</td>\n",
       "      <td>-0.210</td>\n",
       "      <td>1.046</td>\n",
       "      <td>0.334</td>\n",
       "      <td>-0.133</td>\n",
       "      <td>288.75488</td>\n",
       "      <td>48.226200</td>\n",
       "      <td>15.509</td>\n",
       "    </tr>\n",
       "    <tr>\n",
       "      <th>4</th>\n",
       "      <td>CONFIRMED</td>\n",
       "      <td>0</td>\n",
       "      <td>0</td>\n",
       "      <td>0</td>\n",
       "      <td>0</td>\n",
       "      <td>4.134435</td>\n",
       "      <td>1.050000e-05</td>\n",
       "      <td>-1.050000e-05</td>\n",
       "      <td>172.979370</td>\n",
       "      <td>0.001900</td>\n",
       "      <td>...</td>\n",
       "      <td>-232</td>\n",
       "      <td>4.486</td>\n",
       "      <td>0.054</td>\n",
       "      <td>-0.229</td>\n",
       "      <td>0.972</td>\n",
       "      <td>0.315</td>\n",
       "      <td>-0.105</td>\n",
       "      <td>296.28613</td>\n",
       "      <td>48.224670</td>\n",
       "      <td>15.714</td>\n",
       "    </tr>\n",
       "  </tbody>\n",
       "</table>\n",
       "<p>5 rows × 41 columns</p>\n",
       "</div>"
      ],
      "text/plain": [
       "  koi_disposition  koi_fpflag_nt  koi_fpflag_ss  koi_fpflag_co  koi_fpflag_ec  \\\n",
       "0       CONFIRMED              0              0              0              0   \n",
       "1  FALSE POSITIVE              0              1              0              0   \n",
       "2  FALSE POSITIVE              0              1              0              0   \n",
       "3       CONFIRMED              0              0              0              0   \n",
       "4       CONFIRMED              0              0              0              0   \n",
       "\n",
       "   koi_period  koi_period_err1  koi_period_err2  koi_time0bk  \\\n",
       "0   54.418383     2.479000e-04    -2.479000e-04   162.513840   \n",
       "1   19.899140     1.490000e-05    -1.490000e-05   175.850252   \n",
       "2    1.736952     2.630000e-07    -2.630000e-07   170.307565   \n",
       "3    2.525592     3.760000e-06    -3.760000e-06   171.595550   \n",
       "4    4.134435     1.050000e-05    -1.050000e-05   172.979370   \n",
       "\n",
       "   koi_time0bk_err1  ...  koi_steff_err2  koi_slogg  koi_slogg_err1  \\\n",
       "0          0.003520  ...             -81      4.467           0.064   \n",
       "1          0.000581  ...            -176      4.544           0.044   \n",
       "2          0.000115  ...            -174      4.564           0.053   \n",
       "3          0.001130  ...            -211      4.438           0.070   \n",
       "4          0.001900  ...            -232      4.486           0.054   \n",
       "\n",
       "   koi_slogg_err2  koi_srad  koi_srad_err1  koi_srad_err2         ra  \\\n",
       "0          -0.096     0.927          0.105         -0.061  291.93423   \n",
       "1          -0.176     0.868          0.233         -0.078  297.00482   \n",
       "2          -0.168     0.791          0.201         -0.067  285.53461   \n",
       "3          -0.210     1.046          0.334         -0.133  288.75488   \n",
       "4          -0.229     0.972          0.315         -0.105  296.28613   \n",
       "\n",
       "         dec  koi_kepmag  \n",
       "0  48.141651      15.347  \n",
       "1  48.134129      15.436  \n",
       "2  48.285210      15.597  \n",
       "3  48.226200      15.509  \n",
       "4  48.224670      15.714  \n",
       "\n",
       "[5 rows x 41 columns]"
      ]
     },
     "execution_count": 5,
     "metadata": {},
     "output_type": "execute_result"
    }
   ],
   "source": [
    "df = pd.read_csv(\"../Resources/exoplanet_data.csv\")\n",
    "# Drop the null columns where all values are null\n",
    "df = df.dropna(axis='columns', how='all')\n",
    "# Drop the null rows\n",
    "df = df.dropna()\n",
    "df.head()"
   ]
  },
  {
   "cell_type": "markdown",
   "metadata": {},
   "source": [
    "# Select your features (columns)"
   ]
  },
  {
   "cell_type": "code",
   "execution_count": 6,
   "metadata": {},
   "outputs": [],
   "source": [
    "# Set features. This will also be used as your x values.\n",
    "X = df.drop('koi_disposition', axis=1)"
   ]
  },
  {
   "cell_type": "markdown",
   "metadata": {},
   "source": [
    "Use `koi_disposition` for the y values"
   ]
  },
  {
   "cell_type": "code",
   "execution_count": 7,
   "metadata": {},
   "outputs": [],
   "source": [
    "# Setting y vals\n",
    "y = df['koi_disposition'] "
   ]
  },
  {
   "cell_type": "code",
   "execution_count": 8,
   "metadata": {},
   "outputs": [
    {
     "name": "stdout",
     "output_type": "stream",
     "text": [
      "(6991, 40)\n",
      "(6991,)\n"
     ]
    }
   ],
   "source": [
    "print(X.shape)\n",
    "print(y.shape) # research on the y-shape results, gave issues when I loaded it with double brackets"
   ]
  },
  {
   "cell_type": "markdown",
   "metadata": {},
   "source": [
    "# Data Preprocessing"
   ]
  },
  {
   "cell_type": "code",
   "execution_count": 9,
   "metadata": {},
   "outputs": [],
   "source": [
    "# Conversions for non-numeric datalinear regression...\n",
    "\n",
    "# Import label encoding for categorical data in y/target\n",
    "from sklearn.preprocessing import LabelEncoder\n",
    "\n",
    "# Label-encode y data set\n",
    "label_encoder = LabelEncoder()\n",
    "label_encoder.fit(y)\n",
    "encoded_y = label_encoder.transform(y)"
   ]
  },
  {
   "cell_type": "code",
   "execution_count": 10,
   "metadata": {},
   "outputs": [
    {
     "name": "stdout",
     "output_type": "stream",
     "text": [
      "['CONFIRMED' 'FALSE POSITIVE' 'CANDIDATE']\n"
     ]
    }
   ],
   "source": [
    "# Print unique y values\n",
    "print(y.unique())"
   ]
  },
  {
   "cell_type": "code",
   "execution_count": 11,
   "metadata": {},
   "outputs": [
    {
     "name": "stdout",
     "output_type": "stream",
     "text": [
      "Original Class: CONFIRMED\n",
      "Encoded Label: 1\n",
      "------------\n",
      "Original Class: FALSE POSITIVE\n",
      "Encoded Label: 2\n",
      "------------\n",
      "Original Class: FALSE POSITIVE\n",
      "Encoded Label: 2\n",
      "------------\n",
      "Original Class: CONFIRMED\n",
      "Encoded Label: 1\n",
      "------------\n",
      "Original Class: CONFIRMED\n",
      "Encoded Label: 1\n",
      "------------\n",
      "Original Class: CONFIRMED\n",
      "Encoded Label: 1\n",
      "------------\n",
      "Original Class: CONFIRMED\n",
      "Encoded Label: 1\n",
      "------------\n",
      "Original Class: CONFIRMED\n",
      "Encoded Label: 1\n",
      "------------\n",
      "Original Class: CONFIRMED\n",
      "Encoded Label: 1\n",
      "------------\n",
      "Original Class: CONFIRMED\n",
      "Encoded Label: 1\n",
      "------------\n",
      "Original Class: CONFIRMED\n",
      "Encoded Label: 1\n",
      "------------\n",
      "Original Class: FALSE POSITIVE\n",
      "Encoded Label: 2\n",
      "------------\n",
      "Original Class: FALSE POSITIVE\n",
      "Encoded Label: 2\n",
      "------------\n",
      "Original Class: FALSE POSITIVE\n",
      "Encoded Label: 2\n",
      "------------\n",
      "Original Class: CONFIRMED\n",
      "Encoded Label: 1\n",
      "------------\n",
      "Original Class: CONFIRMED\n",
      "Encoded Label: 1\n",
      "------------\n",
      "Original Class: FALSE POSITIVE\n",
      "Encoded Label: 2\n",
      "------------\n",
      "Original Class: CONFIRMED\n",
      "Encoded Label: 1\n",
      "------------\n",
      "Original Class: FALSE POSITIVE\n",
      "Encoded Label: 2\n",
      "------------\n",
      "Original Class: CONFIRMED\n",
      "Encoded Label: 1\n",
      "------------\n",
      "Original Class: CONFIRMED\n",
      "Encoded Label: 1\n",
      "------------\n",
      "Original Class: CONFIRMED\n",
      "Encoded Label: 1\n",
      "------------\n",
      "Original Class: FALSE POSITIVE\n",
      "Encoded Label: 2\n",
      "------------\n",
      "Original Class: FALSE POSITIVE\n",
      "Encoded Label: 2\n",
      "------------\n",
      "Original Class: FALSE POSITIVE\n",
      "Encoded Label: 2\n",
      "------------\n",
      "Original Class: CONFIRMED\n",
      "Encoded Label: 1\n",
      "------------\n",
      "Original Class: CONFIRMED\n",
      "Encoded Label: 1\n",
      "------------\n",
      "Original Class: CONFIRMED\n",
      "Encoded Label: 1\n",
      "------------\n",
      "Original Class: CONFIRMED\n",
      "Encoded Label: 1\n",
      "------------\n",
      "Original Class: CANDIDATE\n",
      "Encoded Label: 0\n",
      "------------\n"
     ]
    }
   ],
   "source": [
    "# Checked first 30 encoded y vals\n",
    "counter = 0\n",
    "for label, original_class in zip(encoded_y, y):\n",
    "    if counter < 30:\n",
    "        counter += 1\n",
    "        print('Original Class: ' + str(original_class))\n",
    "        print('Encoded Label: ' + str(label))\n",
    "        print('-' * 12)\n",
    "    else:\n",
    "        break"
   ]
  },
  {
   "cell_type": "code",
   "execution_count": 12,
   "metadata": {},
   "outputs": [
    {
     "data": {
      "text/plain": [
       "(6991,)"
      ]
     },
     "execution_count": 12,
     "metadata": {},
     "output_type": "execute_result"
    }
   ],
   "source": [
    "# Check for reshape need\n",
    "encoded_y.shape"
   ]
  },
  {
   "cell_type": "code",
   "execution_count": 13,
   "metadata": {},
   "outputs": [
    {
     "data": {
      "text/plain": [
       "array([1, 2, 2, ..., 0, 2, 2])"
      ]
     },
     "execution_count": 13,
     "metadata": {},
     "output_type": "execute_result"
    }
   ],
   "source": [
    "encoded_y"
   ]
  },
  {
   "cell_type": "code",
   "execution_count": 14,
   "metadata": {},
   "outputs": [
    {
     "name": "stdout",
     "output_type": "stream",
     "text": [
      "(6991, 1)\n"
     ]
    }
   ],
   "source": [
    "# Reshape encoded target/y column\n",
    "y = encoded_y.reshape(-1, 1)\n",
    "print(y.shape)"
   ]
  },
  {
   "cell_type": "code",
   "execution_count": 15,
   "metadata": {},
   "outputs": [
    {
     "name": "stdout",
     "output_type": "stream",
     "text": [
      "[[1]\n",
      " [2]\n",
      " [2]\n",
      " ...\n",
      " [0]\n",
      " [2]\n",
      " [2]]\n"
     ]
    }
   ],
   "source": [
    "print(y)"
   ]
  },
  {
   "cell_type": "code",
   "execution_count": 16,
   "metadata": {},
   "outputs": [],
   "source": [
    "# from tensorflow.keras.utils import to_categorical \n",
    "# y = to_categorical(y)\n",
    "# print (y)"
   ]
  },
  {
   "cell_type": "markdown",
   "metadata": {},
   "source": [
    "## Create a Train Test Split"
   ]
  },
  {
   "cell_type": "code",
   "execution_count": 17,
   "metadata": {},
   "outputs": [],
   "source": [
    "# Create training and testing data\n",
    "from sklearn.model_selection import train_test_split\n",
    "\n",
    "X_train, X_test, y_train, y_test = train_test_split(X, y, random_state=42)"
   ]
  },
  {
   "cell_type": "code",
   "execution_count": 18,
   "metadata": {},
   "outputs": [
    {
     "data": {
      "text/html": [
       "<div>\n",
       "<style scoped>\n",
       "    .dataframe tbody tr th:only-of-type {\n",
       "        vertical-align: middle;\n",
       "    }\n",
       "\n",
       "    .dataframe tbody tr th {\n",
       "        vertical-align: top;\n",
       "    }\n",
       "\n",
       "    .dataframe thead th {\n",
       "        text-align: right;\n",
       "    }\n",
       "</style>\n",
       "<table border=\"1\" class=\"dataframe\">\n",
       "  <thead>\n",
       "    <tr style=\"text-align: right;\">\n",
       "      <th></th>\n",
       "      <th>koi_fpflag_nt</th>\n",
       "      <th>koi_fpflag_ss</th>\n",
       "      <th>koi_fpflag_co</th>\n",
       "      <th>koi_fpflag_ec</th>\n",
       "      <th>koi_period</th>\n",
       "      <th>koi_period_err1</th>\n",
       "      <th>koi_period_err2</th>\n",
       "      <th>koi_time0bk</th>\n",
       "      <th>koi_time0bk_err1</th>\n",
       "      <th>koi_time0bk_err2</th>\n",
       "      <th>...</th>\n",
       "      <th>koi_steff_err2</th>\n",
       "      <th>koi_slogg</th>\n",
       "      <th>koi_slogg_err1</th>\n",
       "      <th>koi_slogg_err2</th>\n",
       "      <th>koi_srad</th>\n",
       "      <th>koi_srad_err1</th>\n",
       "      <th>koi_srad_err2</th>\n",
       "      <th>ra</th>\n",
       "      <th>dec</th>\n",
       "      <th>koi_kepmag</th>\n",
       "    </tr>\n",
       "  </thead>\n",
       "  <tbody>\n",
       "    <tr>\n",
       "      <th>6122</th>\n",
       "      <td>0</td>\n",
       "      <td>0</td>\n",
       "      <td>0</td>\n",
       "      <td>0</td>\n",
       "      <td>6.768901</td>\n",
       "      <td>7.380000e-05</td>\n",
       "      <td>-7.380000e-05</td>\n",
       "      <td>133.077240</td>\n",
       "      <td>0.008440</td>\n",
       "      <td>-0.008440</td>\n",
       "      <td>...</td>\n",
       "      <td>-171</td>\n",
       "      <td>4.327</td>\n",
       "      <td>0.153</td>\n",
       "      <td>-0.187</td>\n",
       "      <td>1.125</td>\n",
       "      <td>0.310</td>\n",
       "      <td>-0.207</td>\n",
       "      <td>294.40472</td>\n",
       "      <td>39.351681</td>\n",
       "      <td>14.725</td>\n",
       "    </tr>\n",
       "    <tr>\n",
       "      <th>6370</th>\n",
       "      <td>0</td>\n",
       "      <td>1</td>\n",
       "      <td>0</td>\n",
       "      <td>1</td>\n",
       "      <td>0.733726</td>\n",
       "      <td>6.060000e-06</td>\n",
       "      <td>-6.060000e-06</td>\n",
       "      <td>132.020050</td>\n",
       "      <td>0.007950</td>\n",
       "      <td>-0.007950</td>\n",
       "      <td>...</td>\n",
       "      <td>-175</td>\n",
       "      <td>4.578</td>\n",
       "      <td>0.033</td>\n",
       "      <td>-0.187</td>\n",
       "      <td>0.797</td>\n",
       "      <td>0.211</td>\n",
       "      <td>-0.056</td>\n",
       "      <td>284.50391</td>\n",
       "      <td>42.463860</td>\n",
       "      <td>15.770</td>\n",
       "    </tr>\n",
       "    <tr>\n",
       "      <th>2879</th>\n",
       "      <td>1</td>\n",
       "      <td>0</td>\n",
       "      <td>0</td>\n",
       "      <td>0</td>\n",
       "      <td>7.652707</td>\n",
       "      <td>6.540000e-05</td>\n",
       "      <td>-6.540000e-05</td>\n",
       "      <td>134.460380</td>\n",
       "      <td>0.006190</td>\n",
       "      <td>-0.006190</td>\n",
       "      <td>...</td>\n",
       "      <td>-189</td>\n",
       "      <td>4.481</td>\n",
       "      <td>0.050</td>\n",
       "      <td>-0.200</td>\n",
       "      <td>0.963</td>\n",
       "      <td>0.290</td>\n",
       "      <td>-0.097</td>\n",
       "      <td>295.50211</td>\n",
       "      <td>38.983540</td>\n",
       "      <td>13.099</td>\n",
       "    </tr>\n",
       "    <tr>\n",
       "      <th>107</th>\n",
       "      <td>0</td>\n",
       "      <td>0</td>\n",
       "      <td>0</td>\n",
       "      <td>0</td>\n",
       "      <td>7.953547</td>\n",
       "      <td>1.910000e-05</td>\n",
       "      <td>-1.910000e-05</td>\n",
       "      <td>174.662240</td>\n",
       "      <td>0.001820</td>\n",
       "      <td>-0.001820</td>\n",
       "      <td>...</td>\n",
       "      <td>-85</td>\n",
       "      <td>4.536</td>\n",
       "      <td>0.056</td>\n",
       "      <td>-0.016</td>\n",
       "      <td>0.779</td>\n",
       "      <td>0.023</td>\n",
       "      <td>-0.049</td>\n",
       "      <td>291.15878</td>\n",
       "      <td>40.750271</td>\n",
       "      <td>15.660</td>\n",
       "    </tr>\n",
       "    <tr>\n",
       "      <th>29</th>\n",
       "      <td>0</td>\n",
       "      <td>0</td>\n",
       "      <td>0</td>\n",
       "      <td>0</td>\n",
       "      <td>4.959319</td>\n",
       "      <td>5.150000e-07</td>\n",
       "      <td>-5.150000e-07</td>\n",
       "      <td>172.258529</td>\n",
       "      <td>0.000083</td>\n",
       "      <td>-0.000083</td>\n",
       "      <td>...</td>\n",
       "      <td>-77</td>\n",
       "      <td>4.359</td>\n",
       "      <td>0.110</td>\n",
       "      <td>-0.110</td>\n",
       "      <td>1.082</td>\n",
       "      <td>0.173</td>\n",
       "      <td>-0.130</td>\n",
       "      <td>292.16705</td>\n",
       "      <td>48.727589</td>\n",
       "      <td>15.263</td>\n",
       "    </tr>\n",
       "  </tbody>\n",
       "</table>\n",
       "<p>5 rows × 40 columns</p>\n",
       "</div>"
      ],
      "text/plain": [
       "      koi_fpflag_nt  koi_fpflag_ss  koi_fpflag_co  koi_fpflag_ec  koi_period  \\\n",
       "6122              0              0              0              0    6.768901   \n",
       "6370              0              1              0              1    0.733726   \n",
       "2879              1              0              0              0    7.652707   \n",
       "107               0              0              0              0    7.953547   \n",
       "29                0              0              0              0    4.959319   \n",
       "\n",
       "      koi_period_err1  koi_period_err2  koi_time0bk  koi_time0bk_err1  \\\n",
       "6122     7.380000e-05    -7.380000e-05   133.077240          0.008440   \n",
       "6370     6.060000e-06    -6.060000e-06   132.020050          0.007950   \n",
       "2879     6.540000e-05    -6.540000e-05   134.460380          0.006190   \n",
       "107      1.910000e-05    -1.910000e-05   174.662240          0.001820   \n",
       "29       5.150000e-07    -5.150000e-07   172.258529          0.000083   \n",
       "\n",
       "      koi_time0bk_err2  ...  koi_steff_err2  koi_slogg  koi_slogg_err1  \\\n",
       "6122         -0.008440  ...            -171      4.327           0.153   \n",
       "6370         -0.007950  ...            -175      4.578           0.033   \n",
       "2879         -0.006190  ...            -189      4.481           0.050   \n",
       "107          -0.001820  ...             -85      4.536           0.056   \n",
       "29           -0.000083  ...             -77      4.359           0.110   \n",
       "\n",
       "      koi_slogg_err2  koi_srad  koi_srad_err1  koi_srad_err2         ra  \\\n",
       "6122          -0.187     1.125          0.310         -0.207  294.40472   \n",
       "6370          -0.187     0.797          0.211         -0.056  284.50391   \n",
       "2879          -0.200     0.963          0.290         -0.097  295.50211   \n",
       "107           -0.016     0.779          0.023         -0.049  291.15878   \n",
       "29            -0.110     1.082          0.173         -0.130  292.16705   \n",
       "\n",
       "            dec  koi_kepmag  \n",
       "6122  39.351681      14.725  \n",
       "6370  42.463860      15.770  \n",
       "2879  38.983540      13.099  \n",
       "107   40.750271      15.660  \n",
       "29    48.727589      15.263  \n",
       "\n",
       "[5 rows x 40 columns]"
      ]
     },
     "execution_count": 18,
     "metadata": {},
     "output_type": "execute_result"
    }
   ],
   "source": [
    "X_train.head()"
   ]
  },
  {
   "cell_type": "code",
   "execution_count": 19,
   "metadata": {},
   "outputs": [],
   "source": [
    "# Scale your data\n",
    "from sklearn.preprocessing import MinMaxScaler\n",
    "scaler = MinMaxScaler(feature_range=[0, 1])\n",
    "features_scaler = scaler.fit(X)"
   ]
  },
  {
   "cell_type": "code",
   "execution_count": 20,
   "metadata": {},
   "outputs": [],
   "source": [
    "X_train_scaled = features_scaler.transform(X_train)\n",
    "X_test_scaled = features_scaler.transform(X_test)"
   ]
  },
  {
   "cell_type": "code",
   "execution_count": 21,
   "metadata": {},
   "outputs": [],
   "source": [
    "# One-hot encoding\n",
    "# Updated y/target values to binary categorical values\n",
    "from tensorflow.keras.utils import to_categorical\n",
    "y_train_categorical = to_categorical(y_train)\n",
    "y_test_categorical = to_categorical(y_test)"
   ]
  },
  {
   "cell_type": "markdown",
   "metadata": {},
   "source": [
    "# Build the Model"
   ]
  },
  {
   "cell_type": "code",
   "execution_count": 22,
   "metadata": {},
   "outputs": [],
   "source": [
    "# Neural Network Model\n",
    "# Provide container for the model's layers\n",
    "from tensorflow.keras.models import Sequential\n",
    "model = Sequential() "
   ]
  },
  {
   "cell_type": "code",
   "execution_count": 23,
   "metadata": {},
   "outputs": [],
   "source": [
    "# First layer\n",
    "from tensorflow.keras.layers import Dense\n",
    "# inputs based on columns\n",
    "number_inputs = 40\n",
    "# number_hidden_nodes = 4\n",
    "number_hidden_nodes = 100\n",
    "model.add(Dense(units=number_hidden_nodes,\n",
    "               # Activation function\n",
    "               activation='relu', \n",
    "               input_dim=number_inputs))"
   ]
  },
  {
   "cell_type": "code",
   "execution_count": 24,
   "metadata": {},
   "outputs": [],
   "source": [
    "model.add(Dense(units=number_hidden_nodes,\n",
    "               # Activation function\n",
    "               activation='relu'))"
   ]
  },
  {
   "cell_type": "code",
   "execution_count": 25,
   "metadata": {},
   "outputs": [],
   "source": [
    "# Output layer\n",
    "number_classes = 3 # 3 classes/ possible outputs are available in y\n",
    "model.add(Dense(units=number_classes, \n",
    "                activation='softmax'))"
   ]
  },
  {
   "cell_type": "code",
   "execution_count": 26,
   "metadata": {},
   "outputs": [
    {
     "name": "stdout",
     "output_type": "stream",
     "text": [
      "Model: \"sequential\"\n",
      "_________________________________________________________________\n",
      "Layer (type)                 Output Shape              Param #   \n",
      "=================================================================\n",
      "dense (Dense)                (None, 100)               4100      \n",
      "_________________________________________________________________\n",
      "dense_1 (Dense)              (None, 100)               10100     \n",
      "_________________________________________________________________\n",
      "dense_2 (Dense)              (None, 3)                 303       \n",
      "=================================================================\n",
      "Total params: 14,503\n",
      "Trainable params: 14,503\n",
      "Non-trainable params: 0\n",
      "_________________________________________________________________\n"
     ]
    }
   ],
   "source": [
    "model.summary()"
   ]
  },
  {
   "cell_type": "code",
   "execution_count": 27,
   "metadata": {},
   "outputs": [],
   "source": [
    "# Compile the model\n",
    "model.compile(optimizer='adam',\n",
    "              loss='categorical_crossentropy',\n",
    "              metrics=['accuracy'] )              "
   ]
  },
  {
   "cell_type": "markdown",
   "metadata": {},
   "source": [
    "# Train the Model\n",
    "\n"
   ]
  },
  {
   "cell_type": "code",
   "execution_count": 28,
   "metadata": {},
   "outputs": [
    {
     "name": "stdout",
     "output_type": "stream",
     "text": [
      "Epoch 1/100\n",
      "164/164 - 0s - loss: 0.5559 - accuracy: 0.7217\n",
      "Epoch 2/100\n",
      "164/164 - 0s - loss: 0.3741 - accuracy: 0.8039\n",
      "Epoch 3/100\n",
      "164/164 - 0s - loss: 0.3538 - accuracy: 0.8253\n",
      "Epoch 4/100\n",
      "164/164 - 0s - loss: 0.3482 - accuracy: 0.8243\n",
      "Epoch 5/100\n",
      "164/164 - 0s - loss: 0.3384 - accuracy: 0.8301\n",
      "Epoch 6/100\n",
      "164/164 - 0s - loss: 0.3328 - accuracy: 0.8350\n",
      "Epoch 7/100\n",
      "164/164 - 0s - loss: 0.3274 - accuracy: 0.8430\n",
      "Epoch 8/100\n",
      "164/164 - 0s - loss: 0.3200 - accuracy: 0.8467\n",
      "Epoch 9/100\n",
      "164/164 - 0s - loss: 0.3182 - accuracy: 0.8474\n",
      "Epoch 10/100\n",
      "164/164 - 0s - loss: 0.3148 - accuracy: 0.8516\n",
      "Epoch 11/100\n",
      "164/164 - 0s - loss: 0.3136 - accuracy: 0.8537\n",
      "Epoch 12/100\n",
      "164/164 - 0s - loss: 0.3092 - accuracy: 0.8543\n",
      "Epoch 13/100\n",
      "164/164 - 0s - loss: 0.3013 - accuracy: 0.8611\n",
      "Epoch 14/100\n",
      "164/164 - 0s - loss: 0.2988 - accuracy: 0.8686\n",
      "Epoch 15/100\n",
      "164/164 - 0s - loss: 0.2976 - accuracy: 0.8638\n",
      "Epoch 16/100\n",
      "164/164 - 0s - loss: 0.2957 - accuracy: 0.8671\n",
      "Epoch 17/100\n",
      "164/164 - 0s - loss: 0.2908 - accuracy: 0.8671\n",
      "Epoch 18/100\n",
      "164/164 - 0s - loss: 0.2876 - accuracy: 0.8730\n",
      "Epoch 19/100\n",
      "164/164 - 0s - loss: 0.2891 - accuracy: 0.8692\n",
      "Epoch 20/100\n",
      "164/164 - 0s - loss: 0.2885 - accuracy: 0.8714\n",
      "Epoch 21/100\n",
      "164/164 - 0s - loss: 0.2827 - accuracy: 0.8753\n",
      "Epoch 22/100\n",
      "164/164 - 0s - loss: 0.2842 - accuracy: 0.8726\n",
      "Epoch 23/100\n",
      "164/164 - 0s - loss: 0.2786 - accuracy: 0.8774\n",
      "Epoch 24/100\n",
      "164/164 - 0s - loss: 0.2750 - accuracy: 0.8768\n",
      "Epoch 25/100\n",
      "164/164 - 0s - loss: 0.2817 - accuracy: 0.8755\n",
      "Epoch 26/100\n",
      "164/164 - 0s - loss: 0.2701 - accuracy: 0.8768\n",
      "Epoch 27/100\n",
      "164/164 - 0s - loss: 0.2691 - accuracy: 0.8854\n",
      "Epoch 28/100\n",
      "164/164 - 0s - loss: 0.2707 - accuracy: 0.8810\n",
      "Epoch 29/100\n",
      "164/164 - 0s - loss: 0.2704 - accuracy: 0.8789\n",
      "Epoch 30/100\n",
      "164/164 - 0s - loss: 0.2713 - accuracy: 0.8812\n",
      "Epoch 31/100\n",
      "164/164 - 0s - loss: 0.2723 - accuracy: 0.8785\n",
      "Epoch 32/100\n",
      "164/164 - 0s - loss: 0.2627 - accuracy: 0.8844\n",
      "Epoch 33/100\n",
      "164/164 - 0s - loss: 0.2676 - accuracy: 0.8798\n",
      "Epoch 34/100\n",
      "164/164 - 0s - loss: 0.2644 - accuracy: 0.8848\n",
      "Epoch 35/100\n",
      "164/164 - 0s - loss: 0.2680 - accuracy: 0.8793\n",
      "Epoch 36/100\n",
      "164/164 - 0s - loss: 0.2590 - accuracy: 0.8844\n",
      "Epoch 37/100\n",
      "164/164 - 0s - loss: 0.2596 - accuracy: 0.8850\n",
      "Epoch 38/100\n",
      "164/164 - 0s - loss: 0.2548 - accuracy: 0.8863\n",
      "Epoch 39/100\n",
      "164/164 - 0s - loss: 0.2552 - accuracy: 0.8920\n",
      "Epoch 40/100\n",
      "164/164 - 0s - loss: 0.2584 - accuracy: 0.8848\n",
      "Epoch 41/100\n",
      "164/164 - 0s - loss: 0.2553 - accuracy: 0.8905\n",
      "Epoch 42/100\n",
      "164/164 - 0s - loss: 0.2512 - accuracy: 0.8922\n",
      "Epoch 43/100\n",
      "164/164 - 0s - loss: 0.2538 - accuracy: 0.8886\n",
      "Epoch 44/100\n",
      "164/164 - 0s - loss: 0.2518 - accuracy: 0.8886\n",
      "Epoch 45/100\n",
      "164/164 - 0s - loss: 0.2573 - accuracy: 0.8846\n",
      "Epoch 46/100\n",
      "164/164 - 0s - loss: 0.2582 - accuracy: 0.8840\n",
      "Epoch 47/100\n",
      "164/164 - 0s - loss: 0.2520 - accuracy: 0.8871\n",
      "Epoch 48/100\n",
      "164/164 - 0s - loss: 0.2514 - accuracy: 0.8890\n",
      "Epoch 49/100\n",
      "164/164 - 0s - loss: 0.2526 - accuracy: 0.8871\n",
      "Epoch 50/100\n",
      "164/164 - 0s - loss: 0.2453 - accuracy: 0.8936\n",
      "Epoch 51/100\n",
      "164/164 - 0s - loss: 0.2440 - accuracy: 0.8924\n",
      "Epoch 52/100\n",
      "164/164 - 0s - loss: 0.2433 - accuracy: 0.8934\n",
      "Epoch 53/100\n",
      "164/164 - 0s - loss: 0.2465 - accuracy: 0.8905\n",
      "Epoch 54/100\n",
      "164/164 - 0s - loss: 0.2456 - accuracy: 0.8905\n",
      "Epoch 55/100\n",
      "164/164 - 0s - loss: 0.2463 - accuracy: 0.8926\n",
      "Epoch 56/100\n",
      "164/164 - 0s - loss: 0.2453 - accuracy: 0.8903\n",
      "Epoch 57/100\n",
      "164/164 - 0s - loss: 0.2472 - accuracy: 0.8909\n",
      "Epoch 58/100\n",
      "164/164 - 0s - loss: 0.2433 - accuracy: 0.8926\n",
      "Epoch 59/100\n",
      "164/164 - 0s - loss: 0.2437 - accuracy: 0.8932\n",
      "Epoch 60/100\n",
      "164/164 - 0s - loss: 0.2373 - accuracy: 0.8983\n",
      "Epoch 61/100\n",
      "164/164 - 0s - loss: 0.2375 - accuracy: 0.8959\n",
      "Epoch 62/100\n",
      "164/164 - 0s - loss: 0.2449 - accuracy: 0.8901\n",
      "Epoch 63/100\n",
      "164/164 - 0s - loss: 0.2387 - accuracy: 0.8949\n",
      "Epoch 64/100\n",
      "164/164 - 0s - loss: 0.2389 - accuracy: 0.8926\n",
      "Epoch 65/100\n",
      "164/164 - 0s - loss: 0.2402 - accuracy: 0.8955\n",
      "Epoch 66/100\n",
      "164/164 - 0s - loss: 0.2361 - accuracy: 0.8983\n",
      "Epoch 67/100\n",
      "164/164 - 0s - loss: 0.2344 - accuracy: 0.8991\n",
      "Epoch 68/100\n",
      "164/164 - 0s - loss: 0.2366 - accuracy: 0.8970\n",
      "Epoch 69/100\n",
      "164/164 - 0s - loss: 0.2385 - accuracy: 0.8936\n",
      "Epoch 70/100\n",
      "164/164 - 0s - loss: 0.2304 - accuracy: 0.8987\n",
      "Epoch 71/100\n",
      "164/164 - 0s - loss: 0.2349 - accuracy: 0.8949\n",
      "Epoch 72/100\n",
      "164/164 - 0s - loss: 0.2311 - accuracy: 0.8953\n",
      "Epoch 73/100\n",
      "164/164 - 0s - loss: 0.2343 - accuracy: 0.8953\n",
      "Epoch 74/100\n",
      "164/164 - 0s - loss: 0.2321 - accuracy: 0.8980\n",
      "Epoch 75/100\n",
      "164/164 - 0s - loss: 0.2297 - accuracy: 0.8968\n",
      "Epoch 76/100\n",
      "164/164 - 0s - loss: 0.2270 - accuracy: 0.9004\n",
      "Epoch 77/100\n",
      "164/164 - 0s - loss: 0.2341 - accuracy: 0.8980\n",
      "Epoch 78/100\n",
      "164/164 - 0s - loss: 0.2337 - accuracy: 0.8957\n",
      "Epoch 79/100\n",
      "164/164 - 0s - loss: 0.2266 - accuracy: 0.8995\n",
      "Epoch 80/100\n",
      "164/164 - 0s - loss: 0.2284 - accuracy: 0.8983\n",
      "Epoch 81/100\n",
      "164/164 - 0s - loss: 0.2316 - accuracy: 0.8936\n",
      "Epoch 82/100\n",
      "164/164 - 0s - loss: 0.2273 - accuracy: 0.8974\n",
      "Epoch 83/100\n",
      "164/164 - 0s - loss: 0.2279 - accuracy: 0.8999\n",
      "Epoch 84/100\n",
      "164/164 - 0s - loss: 0.2265 - accuracy: 0.9006\n",
      "Epoch 85/100\n",
      "164/164 - 0s - loss: 0.2275 - accuracy: 0.9010\n",
      "Epoch 86/100\n",
      "164/164 - 0s - loss: 0.2260 - accuracy: 0.9025\n",
      "Epoch 87/100\n",
      "164/164 - 0s - loss: 0.2236 - accuracy: 0.9035\n",
      "Epoch 88/100\n",
      "164/164 - 0s - loss: 0.2218 - accuracy: 0.9023\n",
      "Epoch 89/100\n",
      "164/164 - 0s - loss: 0.2264 - accuracy: 0.8972\n",
      "Epoch 90/100\n",
      "164/164 - 0s - loss: 0.2214 - accuracy: 0.9025\n",
      "Epoch 91/100\n",
      "164/164 - 0s - loss: 0.2206 - accuracy: 0.9044\n",
      "Epoch 92/100\n",
      "164/164 - 0s - loss: 0.2299 - accuracy: 0.8951\n",
      "Epoch 93/100\n",
      "164/164 - 0s - loss: 0.2282 - accuracy: 0.8985\n",
      "Epoch 94/100\n",
      "164/164 - 0s - loss: 0.2183 - accuracy: 0.8999\n",
      "Epoch 95/100\n",
      "164/164 - 0s - loss: 0.2211 - accuracy: 0.9014\n",
      "Epoch 96/100\n",
      "164/164 - 0s - loss: 0.2182 - accuracy: 0.9064\n",
      "Epoch 97/100\n",
      "164/164 - 0s - loss: 0.2189 - accuracy: 0.9044\n",
      "Epoch 98/100\n",
      "164/164 - 0s - loss: 0.2256 - accuracy: 0.9023\n",
      "Epoch 99/100\n",
      "164/164 - 0s - loss: 0.2240 - accuracy: 0.8981\n",
      "Epoch 100/100\n",
      "164/164 - 0s - loss: 0.2226 - accuracy: 0.8987\n"
     ]
    },
    {
     "data": {
      "text/plain": [
       "<tensorflow.python.keras.callbacks.History at 0x12fd9faab70>"
      ]
     },
     "execution_count": 28,
     "metadata": {},
     "output_type": "execute_result"
    }
   ],
   "source": [
    "model.fit(X_train_scaled, \n",
    "          y_train_categorical, \n",
    "          epochs=100, \n",
    "          shuffle=True,\n",
    "          verbose=2)"
   ]
  },
  {
   "cell_type": "code",
   "execution_count": 29,
   "metadata": {},
   "outputs": [
    {
     "name": "stdout",
     "output_type": "stream",
     "text": [
      "55/55 - 0s - loss: 0.2638 - accuracy: 0.8947\n",
      "Normal Neural Network - Loss: 0.2637859582901001, Accuracy: 0.8947368264198303\n"
     ]
    }
   ],
   "source": [
    "# Obtain the model's loss and accuracy scores\n",
    "model_loss, model_accuracy = model.evaluate(\n",
    "                            X_test_scaled, \n",
    "                            y_test_categorical, \n",
    "                            verbose=2)\n",
    "\n",
    "print(f\"Normal Neural Network - Loss: {model_loss}, Accuracy: {model_accuracy}\")"
   ]
  },
  {
   "cell_type": "code",
   "execution_count": 30,
   "metadata": {},
   "outputs": [
    {
     "name": "stdout",
     "output_type": "stream",
     "text": [
      "WARNING:tensorflow:From <ipython-input-30-4db8b0f5c0b2>:1: Sequential.predict_classes (from tensorflow.python.keras.engine.sequential) is deprecated and will be removed after 2021-01-01.\n",
      "Instructions for updating:\n",
      "Please use instead:* `np.argmax(model.predict(x), axis=-1)`,   if your model does multi-class classification   (e.g. if it uses a `softmax` last-layer activation).* `(model.predict(x) > 0.5).astype(\"int32\")`,   if your model does binary classification   (e.g. if it uses a `sigmoid` last-layer activation).\n"
     ]
    }
   ],
   "source": [
    "encoded_predictions = model.predict_classes(X_test_scaled[:5])\n",
    "prediction_labels = label_encoder.inverse_transform(encoded_predictions)"
   ]
  },
  {
   "cell_type": "code",
   "execution_count": 31,
   "metadata": {},
   "outputs": [
    {
     "name": "stdout",
     "output_type": "stream",
     "text": [
      "Predicted classes: ['FALSE POSITIVE' 'CANDIDATE' 'FALSE POSITIVE' 'FALSE POSITIVE'\n",
      " 'FALSE POSITIVE']\n",
      "Actual labels: [array([2]), array([0]), array([2]), array([2]), array([2])]\n"
     ]
    }
   ],
   "source": [
    "print(f'Predicted classes: {prediction_labels}')\n",
    "print(f'Actual labels: {list(y_test[:5])}')"
   ]
  },
  {
   "cell_type": "markdown",
   "metadata": {},
   "source": [
    "# Save the Model"
   ]
  },
  {
   "cell_type": "code",
   "execution_count": 33,
   "metadata": {},
   "outputs": [],
   "source": [
    "# save your model by updating \"your_name\" with your name\n",
    "# and \"your_model\" with your model variable\n",
    "# be sure to turn this in to BCS\n",
    "# if joblib fails to import, try running the command to install in terminal/git-bash\n",
    "import joblib"
   ]
  },
  {
   "cell_type": "code",
   "execution_count": 36,
   "metadata": {},
   "outputs": [],
   "source": [
    "# filename = 'neural_network.sav'\n",
    "# joblib.dump(model, filename)"
   ]
  },
  {
   "cell_type": "code",
   "execution_count": null,
   "metadata": {},
   "outputs": [],
   "source": []
  }
 ],
 "metadata": {
  "kernel_info": {
   "name": "dev"
  },
  "kernelspec": {
   "display_name": "Python 3",
   "language": "python",
   "name": "python3"
  },
  "language_info": {
   "codemirror_mode": {
    "name": "ipython",
    "version": 3
   },
   "file_extension": ".py",
   "mimetype": "text/x-python",
   "name": "python",
   "nbconvert_exporter": "python",
   "pygments_lexer": "ipython3",
   "version": "3.6.10"
  },
  "nteract": {
   "version": "0.12.3"
  }
 },
 "nbformat": 4,
 "nbformat_minor": 4
}
